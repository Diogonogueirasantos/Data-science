{
 "cells": [
  {
   "cell_type": "code",
   "execution_count": 1,
   "id": "d4e298da-3f20-4065-bb97-7992f662ba03",
   "metadata": {},
   "outputs": [],
   "source": [
    "import requests"
   ]
  },
  {
   "cell_type": "code",
   "execution_count": 47,
   "id": "cc75b5dc-5066-4a0e-ba57-3cd21ba2cce1",
   "metadata": {},
   "outputs": [],
   "source": [
    "class api_Settings:\n",
    "    def __init__(self):\n",
    "        self.api_Initialization()\n",
    "\n",
    "    def api_Initialization(self):\n",
    "        path = 'test.txt' \n",
    "        send_file = requests.post('https://tmpfiles.org/api/v1/upload', files={'file': open(path, 'rb')})\n",
    "        req_Data = send_file.json()\n",
    "        print(f'Acess your file: {req_Data}')"
   ]
  },
  {
   "cell_type": "code",
   "execution_count": 49,
   "id": "8221e69c-8d85-41f2-ac48-d6c772cfcbbd",
   "metadata": {},
   "outputs": [
    {
     "name": "stdout",
     "output_type": "stream",
     "text": [
      "Acess your file: {'status': 'success', 'data': {'url': 'https://tmpfiles.org/20030443/test.txt'}}\n"
     ]
    }
   ],
   "source": [
    "container = api_Settings()"
   ]
  }
 ],
 "metadata": {
  "kernelspec": {
   "display_name": "Python [conda env:base] *",
   "language": "python",
   "name": "conda-base-py"
  },
  "language_info": {
   "codemirror_mode": {
    "name": "ipython",
    "version": 3
   },
   "file_extension": ".py",
   "mimetype": "text/x-python",
   "name": "python",
   "nbconvert_exporter": "python",
   "pygments_lexer": "ipython3",
   "version": "3.12.2"
  }
 },
 "nbformat": 4,
 "nbformat_minor": 5
}
