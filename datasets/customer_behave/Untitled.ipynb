{
 "cells": [
  {
   "cell_type": "code",
   "execution_count": 1,
   "id": "b673c4eb-6289-45e5-ac7b-07ac63b0e6db",
   "metadata": {},
   "outputs": [],
   "source": [
    "import pandas as pd"
   ]
  },
  {
   "cell_type": "code",
   "execution_count": 3,
   "id": "990578ff-d1f1-4047-becc-8590d6e17223",
   "metadata": {},
   "outputs": [],
   "source": [
    "df =  pd.read_csv('V2_SocialMedia.csv')"
   ]
  },
  {
   "cell_type": "code",
   "execution_count": 4,
   "id": "54193576-4e8d-4007-9531-d46ad39b5386",
   "metadata": {},
   "outputs": [
    {
     "name": "stdout",
     "output_type": "stream",
     "text": [
      "<class 'pandas.core.frame.DataFrame'>\n",
      "RangeIndex: 300 entries, 0 to 299\n",
      "Data columns (total 15 columns):\n",
      " #   Column                   Non-Null Count  Dtype  \n",
      "---  ------                   --------------  -----  \n",
      " 0   id_Cliente               300 non-null    int64  \n",
      " 1   Idade                    300 non-null    int64  \n",
      " 2   Genero                   300 non-null    object \n",
      " 3   Ganho_Anual_(USD)        300 non-null    int64  \n",
      " 4   Ganho_Mensal             300 non-null    int64  \n",
      " 5   Nivel_Escolar            300 non-null    object \n",
      " 6   Tempo_Uso_Redes_Sociais  300 non-null    float64\n",
      " 7   Plataforma_de_Uso        300 non-null    object \n",
      " 8   Grau_de_Influencia       300 non-null    object \n",
      " 9   Decisao_de_Compra        300 non-null    object \n",
      " 10  Categoria_do_Produto     300 non-null    object \n",
      " 11  Produto                  300 non-null    object \n",
      " 12  Total_Gasto (USD)        300 non-null    int64  \n",
      " 13  Marca                    300 non-null    object \n",
      " 14  Cidade                   300 non-null    object \n",
      "dtypes: float64(1), int64(5), object(9)\n",
      "memory usage: 35.3+ KB\n"
     ]
    }
   ],
   "source": [
    "df.info()"
   ]
  },
  {
   "cell_type": "code",
   "execution_count": 5,
   "id": "65e28e31-fb69-4022-83f4-dd444f2dd6c9",
   "metadata": {},
   "outputs": [
    {
     "data": {
      "text/html": [
       "<div>\n",
       "<style scoped>\n",
       "    .dataframe tbody tr th:only-of-type {\n",
       "        vertical-align: middle;\n",
       "    }\n",
       "\n",
       "    .dataframe tbody tr th {\n",
       "        vertical-align: top;\n",
       "    }\n",
       "\n",
       "    .dataframe thead th {\n",
       "        text-align: right;\n",
       "    }\n",
       "</style>\n",
       "<table border=\"1\" class=\"dataframe\">\n",
       "  <thead>\n",
       "    <tr style=\"text-align: right;\">\n",
       "      <th></th>\n",
       "      <th>id_Cliente</th>\n",
       "      <th>Idade</th>\n",
       "      <th>Ganho_Anual_(USD)</th>\n",
       "      <th>Ganho_Mensal</th>\n",
       "      <th>Tempo_Uso_Redes_Sociais</th>\n",
       "      <th>Total_Gasto (USD)</th>\n",
       "    </tr>\n",
       "  </thead>\n",
       "  <tbody>\n",
       "    <tr>\n",
       "      <th>count</th>\n",
       "      <td>300.000000</td>\n",
       "      <td>300.000000</td>\n",
       "      <td>300.000000</td>\n",
       "      <td>300.000000</td>\n",
       "      <td>300.000000</td>\n",
       "      <td>300.000000</td>\n",
       "    </tr>\n",
       "    <tr>\n",
       "      <th>mean</th>\n",
       "      <td>150.500000</td>\n",
       "      <td>29.483333</td>\n",
       "      <td>55466.666667</td>\n",
       "      <td>4622.173333</td>\n",
       "      <td>2.724000</td>\n",
       "      <td>183.733333</td>\n",
       "    </tr>\n",
       "    <tr>\n",
       "      <th>std</th>\n",
       "      <td>86.746758</td>\n",
       "      <td>3.298381</td>\n",
       "      <td>8462.521479</td>\n",
       "      <td>705.208134</td>\n",
       "      <td>0.440914</td>\n",
       "      <td>261.520948</td>\n",
       "    </tr>\n",
       "    <tr>\n",
       "      <th>min</th>\n",
       "      <td>1.000000</td>\n",
       "      <td>22.000000</td>\n",
       "      <td>32000.000000</td>\n",
       "      <td>2667.000000</td>\n",
       "      <td>1.800000</td>\n",
       "      <td>0.000000</td>\n",
       "    </tr>\n",
       "    <tr>\n",
       "      <th>25%</th>\n",
       "      <td>75.750000</td>\n",
       "      <td>27.000000</td>\n",
       "      <td>51000.000000</td>\n",
       "      <td>4250.000000</td>\n",
       "      <td>2.475000</td>\n",
       "      <td>30.000000</td>\n",
       "    </tr>\n",
       "    <tr>\n",
       "      <th>50%</th>\n",
       "      <td>150.500000</td>\n",
       "      <td>29.000000</td>\n",
       "      <td>55000.000000</td>\n",
       "      <td>4583.000000</td>\n",
       "      <td>2.700000</td>\n",
       "      <td>65.000000</td>\n",
       "    </tr>\n",
       "    <tr>\n",
       "      <th>75%</th>\n",
       "      <td>225.250000</td>\n",
       "      <td>32.000000</td>\n",
       "      <td>62000.000000</td>\n",
       "      <td>5167.000000</td>\n",
       "      <td>2.900000</td>\n",
       "      <td>200.000000</td>\n",
       "    </tr>\n",
       "    <tr>\n",
       "      <th>max</th>\n",
       "      <td>300.000000</td>\n",
       "      <td>45.000000</td>\n",
       "      <td>80000.000000</td>\n",
       "      <td>6667.000000</td>\n",
       "      <td>5.000000</td>\n",
       "      <td>1200.000000</td>\n",
       "    </tr>\n",
       "  </tbody>\n",
       "</table>\n",
       "</div>"
      ],
      "text/plain": [
       "       id_Cliente       Idade  Ganho_Anual_(USD)  Ganho_Mensal  \\\n",
       "count  300.000000  300.000000         300.000000    300.000000   \n",
       "mean   150.500000   29.483333       55466.666667   4622.173333   \n",
       "std     86.746758    3.298381        8462.521479    705.208134   \n",
       "min      1.000000   22.000000       32000.000000   2667.000000   \n",
       "25%     75.750000   27.000000       51000.000000   4250.000000   \n",
       "50%    150.500000   29.000000       55000.000000   4583.000000   \n",
       "75%    225.250000   32.000000       62000.000000   5167.000000   \n",
       "max    300.000000   45.000000       80000.000000   6667.000000   \n",
       "\n",
       "       Tempo_Uso_Redes_Sociais  Total_Gasto (USD)  \n",
       "count               300.000000         300.000000  \n",
       "mean                  2.724000         183.733333  \n",
       "std                   0.440914         261.520948  \n",
       "min                   1.800000           0.000000  \n",
       "25%                   2.475000          30.000000  \n",
       "50%                   2.700000          65.000000  \n",
       "75%                   2.900000         200.000000  \n",
       "max                   5.000000        1200.000000  "
      ]
     },
     "execution_count": 5,
     "metadata": {},
     "output_type": "execute_result"
    }
   ],
   "source": [
    "df.describe()"
   ]
  }
 ],
 "metadata": {
  "kernelspec": {
   "display_name": "Python 3 (ipykernel)",
   "language": "python",
   "name": "python3"
  },
  "language_info": {
   "codemirror_mode": {
    "name": "ipython",
    "version": 3
   },
   "file_extension": ".py",
   "mimetype": "text/x-python",
   "name": "python",
   "nbconvert_exporter": "python",
   "pygments_lexer": "ipython3",
   "version": "3.13.3"
  }
 },
 "nbformat": 4,
 "nbformat_minor": 5
}
