{
 "cells": [
  {
   "cell_type": "code",
   "execution_count": 21,
   "id": "61b8c6c3-f059-49b7-bd9e-3512027f7f80",
   "metadata": {},
   "outputs": [],
   "source": [
    "import pandas as pd"
   ]
  },
  {
   "cell_type": "code",
   "execution_count": 22,
   "id": "dc751ed0-9fb2-44f2-b0db-96ee9578ba82",
   "metadata": {},
   "outputs": [],
   "source": [
    "#loading the dataset\n",
    "df = pd.read_csv('clientes.csv')"
   ]
  },
  {
   "cell_type": "code",
   "execution_count": 23,
   "id": "408e3a23-8920-4bf8-b176-84147043257e",
   "metadata": {},
   "outputs": [
    {
     "data": {
      "text/plain": [
       "(1027, 7)"
      ]
     },
     "execution_count": 23,
     "metadata": {},
     "output_type": "execute_result"
    }
   ],
   "source": [
    "df.shape"
   ]
  },
  {
   "cell_type": "code",
   "execution_count": 24,
   "id": "a85ac492-9bdd-419c-b394-adb8284d90f1",
   "metadata": {},
   "outputs": [
    {
     "data": {
      "text/plain": [
       "nome         3\n",
       "cpf          7\n",
       "idade        0\n",
       "data        10\n",
       "endereco     5\n",
       "estado       5\n",
       "pais         0\n",
       "dtype: int64"
      ]
     },
     "execution_count": 24,
     "metadata": {},
     "output_type": "execute_result"
    }
   ],
   "source": [
    "#cleaning the all non-values of dataset\n",
    "df.isnull().sum()"
   ]
  },
  {
   "cell_type": "code",
   "execution_count": 25,
   "id": "5626f632-4551-42c2-9b83-2d325c0f7a46",
   "metadata": {},
   "outputs": [],
   "source": [
    "df.dropna(subset=['nome', 'cpf'], inplace=True)"
   ]
  },
  {
   "cell_type": "code",
   "execution_count": 26,
   "id": "0e32fb2d-9a76-4119-8215-3e383733372e",
   "metadata": {},
   "outputs": [],
   "source": [
    "df = df.fillna('Não informado')"
   ]
  },
  {
   "cell_type": "code",
   "execution_count": 27,
   "id": "b6fd8011-e3d4-4ae8-8aa6-0b85e3fd7608",
   "metadata": {},
   "outputs": [
    {
     "data": {
      "text/html": [
       "<div>\n",
       "<style scoped>\n",
       "    .dataframe tbody tr th:only-of-type {\n",
       "        vertical-align: middle;\n",
       "    }\n",
       "\n",
       "    .dataframe tbody tr th {\n",
       "        vertical-align: top;\n",
       "    }\n",
       "\n",
       "    .dataframe thead th {\n",
       "        text-align: right;\n",
       "    }\n",
       "</style>\n",
       "<table border=\"1\" class=\"dataframe\">\n",
       "  <thead>\n",
       "    <tr style=\"text-align: right;\">\n",
       "      <th></th>\n",
       "      <th>nome</th>\n",
       "      <th>cpf</th>\n",
       "      <th>idade</th>\n",
       "      <th>data</th>\n",
       "      <th>endereco</th>\n",
       "      <th>estado</th>\n",
       "      <th>pais</th>\n",
       "    </tr>\n",
       "  </thead>\n",
       "  <tbody>\n",
       "    <tr>\n",
       "      <th>0</th>\n",
       "      <td>Sr. Vitor Gabriel Silva</td>\n",
       "      <td>640.719.385-01</td>\n",
       "      <td>90</td>\n",
       "      <td>06/12/1933</td>\n",
       "      <td>Trevo Emanuel Silva, 482\\nVila Tirol\\n47847085...</td>\n",
       "      <td>Rondônia</td>\n",
       "      <td>Brasil</td>\n",
       "    </tr>\n",
       "    <tr>\n",
       "      <th>1</th>\n",
       "      <td>Calebe Santos</td>\n",
       "      <td>651.297.384-46</td>\n",
       "      <td>40</td>\n",
       "      <td>06/03/1984</td>\n",
       "      <td>Recanto Moraes, 7\\nErnesto Nascimento\\n96497-6...</td>\n",
       "      <td>Rio de Janeiro</td>\n",
       "      <td>Brasil</td>\n",
       "    </tr>\n",
       "    <tr>\n",
       "      <th>2</th>\n",
       "      <td>Evelyn Pires</td>\n",
       "      <td>107.643.528-90</td>\n",
       "      <td>80</td>\n",
       "      <td>09/03/1944</td>\n",
       "      <td>Travessa de Caldeira, 237\\nSanta Terezinha\\n84...</td>\n",
       "      <td>Sergipe</td>\n",
       "      <td>Brasil</td>\n",
       "    </tr>\n",
       "    <tr>\n",
       "      <th>3</th>\n",
       "      <td>Maria Julia Castro</td>\n",
       "      <td>164.750.293-43</td>\n",
       "      <td>76</td>\n",
       "      <td>12/04/1947</td>\n",
       "      <td>Residencial de Pereira, 20\\nJatobá\\n62127-165 ...</td>\n",
       "      <td>Pernambuco</td>\n",
       "      <td>Brasil</td>\n",
       "    </tr>\n",
       "    <tr>\n",
       "      <th>4</th>\n",
       "      <td>Arthur da Rosa</td>\n",
       "      <td>085.167.249-30</td>\n",
       "      <td>53</td>\n",
       "      <td>16/04/1970</td>\n",
       "      <td>Parque Almeida, 66\\nVila Suzana Segunda Seção\\...</td>\n",
       "      <td>Santa Catarina</td>\n",
       "      <td>Brasil</td>\n",
       "    </tr>\n",
       "    <tr>\n",
       "      <th>5</th>\n",
       "      <td>Juan Pereira</td>\n",
       "      <td>520.876.319-21</td>\n",
       "      <td>68</td>\n",
       "      <td>25/10/1955</td>\n",
       "      <td>Rodovia de Pereira, 51\\nEstrela\\n44830637 Mend...</td>\n",
       "      <td>Rio de Janeiro</td>\n",
       "      <td>Brasil</td>\n",
       "    </tr>\n",
       "    <tr>\n",
       "      <th>6</th>\n",
       "      <td>Dra. Ana Laura Ribeiro</td>\n",
       "      <td>210.764.589-20</td>\n",
       "      <td>69</td>\n",
       "      <td>09/05/1954</td>\n",
       "      <td>Esplanada Lavínia Ramos\\nSão Francisco\\n39467-...</td>\n",
       "      <td>Distrito Federal</td>\n",
       "      <td>Brasil</td>\n",
       "    </tr>\n",
       "    <tr>\n",
       "      <th>7</th>\n",
       "      <td>Maria Clara Araújo</td>\n",
       "      <td>960.342.175-80</td>\n",
       "      <td>41</td>\n",
       "      <td>14/03/1983</td>\n",
       "      <td>Praça Cavalcanti, 65\\nConjunto Celso Machado\\n...</td>\n",
       "      <td>Paraná</td>\n",
       "      <td>Brasil</td>\n",
       "    </tr>\n",
       "    <tr>\n",
       "      <th>8</th>\n",
       "      <td>Vitória Oliveira</td>\n",
       "      <td>302.568.479-83</td>\n",
       "      <td>31</td>\n",
       "      <td>10/03/1993</td>\n",
       "      <td>Esplanada Monteiro, 88\\nConjunto Paulo Vi\\n064...</td>\n",
       "      <td>Roraima</td>\n",
       "      <td>Brasil</td>\n",
       "    </tr>\n",
       "    <tr>\n",
       "      <th>9</th>\n",
       "      <td>Benjamin Oliveira</td>\n",
       "      <td>451.896.703-84</td>\n",
       "      <td>49</td>\n",
       "      <td>16/05/1974</td>\n",
       "      <td>Ladeira Monteiro, 57\\nVila Primeiro De Maio\\n7...</td>\n",
       "      <td>Acre</td>\n",
       "      <td>Brasil</td>\n",
       "    </tr>\n",
       "  </tbody>\n",
       "</table>\n",
       "</div>"
      ],
      "text/plain": [
       "                      nome             cpf  idade        data  \\\n",
       "0  Sr. Vitor Gabriel Silva  640.719.385-01     90  06/12/1933   \n",
       "1            Calebe Santos  651.297.384-46     40  06/03/1984   \n",
       "2             Evelyn Pires  107.643.528-90     80  09/03/1944   \n",
       "3       Maria Julia Castro  164.750.293-43     76  12/04/1947   \n",
       "4           Arthur da Rosa  085.167.249-30     53  16/04/1970   \n",
       "5             Juan Pereira  520.876.319-21     68  25/10/1955   \n",
       "6   Dra. Ana Laura Ribeiro  210.764.589-20     69  09/05/1954   \n",
       "7       Maria Clara Araújo  960.342.175-80     41  14/03/1983   \n",
       "8         Vitória Oliveira  302.568.479-83     31  10/03/1993   \n",
       "9        Benjamin Oliveira  451.896.703-84     49  16/05/1974   \n",
       "\n",
       "                                            endereco            estado    pais  \n",
       "0  Trevo Emanuel Silva, 482\\nVila Tirol\\n47847085...          Rondônia  Brasil  \n",
       "1  Recanto Moraes, 7\\nErnesto Nascimento\\n96497-6...    Rio de Janeiro  Brasil  \n",
       "2  Travessa de Caldeira, 237\\nSanta Terezinha\\n84...           Sergipe  Brasil  \n",
       "3  Residencial de Pereira, 20\\nJatobá\\n62127-165 ...        Pernambuco  Brasil  \n",
       "4  Parque Almeida, 66\\nVila Suzana Segunda Seção\\...    Santa Catarina  Brasil  \n",
       "5  Rodovia de Pereira, 51\\nEstrela\\n44830637 Mend...    Rio de Janeiro  Brasil  \n",
       "6  Esplanada Lavínia Ramos\\nSão Francisco\\n39467-...  Distrito Federal  Brasil  \n",
       "7  Praça Cavalcanti, 65\\nConjunto Celso Machado\\n...            Paraná  Brasil  \n",
       "8  Esplanada Monteiro, 88\\nConjunto Paulo Vi\\n064...           Roraima  Brasil  \n",
       "9  Ladeira Monteiro, 57\\nVila Primeiro De Maio\\n7...              Acre  Brasil  "
      ]
     },
     "execution_count": 27,
     "metadata": {},
     "output_type": "execute_result"
    }
   ],
   "source": [
    "#checking if all non-values in dataset were removed\n",
    "df.head(10)"
   ]
  },
  {
   "cell_type": "code",
   "execution_count": 28,
   "id": "c741d648-0837-4c12-92be-9fddcf041e9a",
   "metadata": {},
   "outputs": [
    {
     "data": {
      "text/plain": [
       "nome        0\n",
       "cpf         0\n",
       "idade       0\n",
       "data        0\n",
       "endereco    0\n",
       "estado      0\n",
       "pais        0\n",
       "dtype: int64"
      ]
     },
     "execution_count": 28,
     "metadata": {},
     "output_type": "execute_result"
    }
   ],
   "source": [
    "df.isnull().sum()"
   ]
  },
  {
   "cell_type": "code",
   "execution_count": 30,
   "id": "aec7a799-f52b-4c5d-847e-8c9948b6f6d3",
   "metadata": {},
   "outputs": [],
   "source": [
    "#drop the column that we wont to be in this project \n",
    "df.drop('pais', axis=1, inplace=True)"
   ]
  },
  {
   "cell_type": "code",
   "execution_count": 32,
   "id": "12c5394d-797b-4692-8398-0a888078397a",
   "metadata": {},
   "outputs": [],
   "source": [
    "df.to_csv('Clientes_VI.csv', encoding='utf-8', index=False)"
   ]
  }
 ],
 "metadata": {
  "kernelspec": {
   "display_name": "Python 3 (ipykernel)",
   "language": "python",
   "name": "python3"
  },
  "language_info": {
   "codemirror_mode": {
    "name": "ipython",
    "version": 3
   },
   "file_extension": ".py",
   "mimetype": "text/x-python",
   "name": "python",
   "nbconvert_exporter": "python",
   "pygments_lexer": "ipython3",
   "version": "3.12.2"
  }
 },
 "nbformat": 4,
 "nbformat_minor": 5
}
