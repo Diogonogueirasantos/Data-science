{
 "cells": [
  {
   "cell_type": "code",
   "execution_count": 4,
   "id": "ca1d794b-fc60-42b5-97a6-b8c1802b9d3a",
   "metadata": {},
   "outputs": [],
   "source": [
    "import polars as pl \n",
    "import datetime as dt"
   ]
  },
  {
   "cell_type": "code",
   "execution_count": 6,
   "id": "9041a5bb-ccdf-4451-a3c3-7b2802f2f1e3",
   "metadata": {},
   "outputs": [],
   "source": [
    "randomic_Data = pl.DataFrame(\n",
    "    {\n",
    "        \"name\": ['Diogo', 'Julia', 'Carlos', 'Karim'],\n",
    "        'birthdate': [\n",
    "            dt.date(2003, 6, 15),\n",
    "            dt.date(2004, 8, 16),\n",
    "            dt.date(1985, 5, 22),\n",
    "            dt.date(1988, 2, 8),\n",
    "        ],\n",
    "        'sex': ['M', 'F', 'M', 'F'],\n",
    "    }\n",
    ")"
   ]
  },
  {
   "cell_type": "code",
   "execution_count": 8,
   "id": "b5c997d6-be99-4213-9cb7-20c3a2d010cb",
   "metadata": {},
   "outputs": [],
   "source": [
    "randomic_Data.write_csv('Datasets/data.csv')"
   ]
  },
  {
   "cell_type": "code",
   "execution_count": 13,
   "id": "b0ee054b-407a-4d39-9371-9c60b5ffe163",
   "metadata": {},
   "outputs": [],
   "source": [
    "Query = randomic_Data.select(\n",
    "    pl.col('name'),\n",
    "    pl.col('birthdate')\n",
    ")"
   ]
  },
  {
   "cell_type": "code",
   "execution_count": 15,
   "id": "07f3d2ce-dbcd-4194-af4f-f57b836a83cc",
   "metadata": {},
   "outputs": [
    {
     "data": {
      "text/html": [
       "<div><style>\n",
       ".dataframe > thead > tr,\n",
       ".dataframe > tbody > tr {\n",
       "  text-align: right;\n",
       "  white-space: pre-wrap;\n",
       "}\n",
       "</style>\n",
       "<small>shape: (4, 2)</small><table border=\"1\" class=\"dataframe\"><thead><tr><th>name</th><th>birthdate</th></tr><tr><td>str</td><td>date</td></tr></thead><tbody><tr><td>&quot;Diogo&quot;</td><td>2003-06-15</td></tr><tr><td>&quot;Julia&quot;</td><td>2004-08-16</td></tr><tr><td>&quot;Carlos&quot;</td><td>1985-05-22</td></tr><tr><td>&quot;Karim&quot;</td><td>1988-02-08</td></tr></tbody></table></div>"
      ],
      "text/plain": [
       "shape: (4, 2)\n",
       "┌────────┬────────────┐\n",
       "│ name   ┆ birthdate  │\n",
       "│ ---    ┆ ---        │\n",
       "│ str    ┆ date       │\n",
       "╞════════╪════════════╡\n",
       "│ Diogo  ┆ 2003-06-15 │\n",
       "│ Julia  ┆ 2004-08-16 │\n",
       "│ Carlos ┆ 1985-05-22 │\n",
       "│ Karim  ┆ 1988-02-08 │\n",
       "└────────┴────────────┘"
      ]
     },
     "execution_count": 15,
     "metadata": {},
     "output_type": "execute_result"
    }
   ],
   "source": [
    "Query"
   ]
  }
 ],
 "metadata": {
  "kernelspec": {
   "display_name": "Python [conda env:base] *",
   "language": "python",
   "name": "conda-base-py"
  },
  "language_info": {
   "codemirror_mode": {
    "name": "ipython",
    "version": 3
   },
   "file_extension": ".py",
   "mimetype": "text/x-python",
   "name": "python",
   "nbconvert_exporter": "python",
   "pygments_lexer": "ipython3",
   "version": "3.12.2"
  }
 },
 "nbformat": 4,
 "nbformat_minor": 5
}
