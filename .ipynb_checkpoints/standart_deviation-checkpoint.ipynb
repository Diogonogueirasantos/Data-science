{
 "cells": [
  {
   "cell_type": "code",
   "execution_count": 56,
   "id": "cd6db5cc-a61b-477e-aa5f-2f4b999877cf",
   "metadata": {},
   "outputs": [],
   "source": [
    "import pandas as pd\n",
    "from matplotlib import pyplot as plt\n",
    "import numpy as np"
   ]
  },
  {
   "cell_type": "code",
   "execution_count": 34,
   "id": "e022749f-2e67-4703-80dd-684cfd5a0783",
   "metadata": {},
   "outputs": [],
   "source": [
    "data = pd.DataFrame({\n",
    "    \"x\":[20, 33, 45, 78, 84, 99, 47, 22, 5, 7, 10, 11, 56]\n",
    "})"
   ]
  },
  {
   "cell_type": "code",
   "execution_count": 46,
   "id": "4cbfe45f-7dd1-4599-85e4-37ba8d9bdc92",
   "metadata": {},
   "outputs": [],
   "source": [
    "mean = round((data.sum()) / len(data))"
   ]
  },
  {
   "cell_type": "code",
   "execution_count": 61,
   "id": "d8fbfaa4-f30a-4f77-8756-41ab77f9f9e8",
   "metadata": {},
   "outputs": [],
   "source": [
    "std = data.std()"
   ]
  },
  {
   "cell_type": "code",
   "execution_count": 62,
   "id": "185b03ca-8b00-4d88-b434-7cb3bfd49c42",
   "metadata": {},
   "outputs": [
    {
     "data": {
      "text/plain": [
       "x    31.64689\n",
       "dtype: float64"
      ]
     },
     "execution_count": 62,
     "metadata": {},
     "output_type": "execute_result"
    }
   ],
   "source": [
    "std"
   ]
  },
  {
   "cell_type": "code",
   "execution_count": 64,
   "id": "91b2a7ab-349f-4687-9d22-468a5e5dc896",
   "metadata": {},
   "outputs": [
    {
     "data": {
      "image/png": "[encoded data removed]",
      "text/plain": [
       "<Figure size 640x480 with 1 Axes>"
      ]
     },
     "metadata": {},
     "output_type": "display_data"
    }
   ],
   "source": [
    "plt.boxplot(data)\n",
    "plt.show()"
   ]
  }
 ],
 "metadata": {
  "kernelspec": {
   "display_name": "Python 3 (ipykernel)",
   "language": "python",
   "name": "python3"
  },
  "language_info": {
   "codemirror_mode": {
    "name": "ipython",
    "version": 3
   },
   "file_extension": ".py",
   "mimetype": "text/x-python",
   "name": "python",
   "nbconvert_exporter": "python",
   "pygments_lexer": "ipython3",
   "version": "3.13.0"
  }
 },
 "nbformat": 4,
 "nbformat_minor": 5
}
