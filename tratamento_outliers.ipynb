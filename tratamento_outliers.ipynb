{
 "cells": [
  {
   "cell_type": "code",
   "execution_count": 19,
   "id": "a9bd0725-0585-4dd3-82bf-94af014da4aa",
   "metadata": {},
   "outputs": [],
   "source": [
    "import pandas as pd\n",
    "from scipy import stats"
   ]
  },
  {
   "cell_type": "code",
   "execution_count": 37,
   "id": "6f5d99d7-673e-4fea-9417-79261d309503",
   "metadata": {},
   "outputs": [],
   "source": [
    "df = pd.read_csv('Datasets/Tabela_clientes.csv')"
   ]
  },
  {
   "cell_type": "code",
   "execution_count": 39,
   "id": "a54e0ca8-8d43-4e9e-a096-293eff89ede8",
   "metadata": {},
   "outputs": [
    {
     "data": {
      "text/plain": [
       "nome        0\n",
       "cpf         0\n",
       "idade       0\n",
       "data        0\n",
       "endereco    0\n",
       "estado      0\n",
       "dtype: int64"
      ]
     },
     "execution_count": 39,
     "metadata": {},
     "output_type": "execute_result"
    }
   ],
   "source": [
    "df.isnull().sum()"
   ]
  },
  {
   "cell_type": "code",
   "execution_count": 42,
   "id": "90867f96-48f7-42ae-aadb-26f7a76902de",
   "metadata": {},
   "outputs": [
    {
     "data": {
      "text/plain": [
       "(1026, 6)"
      ]
     },
     "execution_count": 42,
     "metadata": {},
     "output_type": "execute_result"
    }
   ],
   "source": [
    "df.shape"
   ]
  },
  {
   "cell_type": "code",
   "execution_count": 66,
   "id": "1fbfe5c7-a45b-4cb2-a08f-d9b55fb6adf6",
   "metadata": {},
   "outputs": [],
   "source": [
    "rm_idade_Negativa = df[(df['idade'] < 0)].dropna()"
   ]
  },
  {
   "cell_type": "code",
   "execution_count": 76,
   "id": "d926e3a5-e514-4819-96b0-e084c301a468",
   "metadata": {},
   "outputs": [
    {
     "data": {
      "text/plain": [
       "(4, 6)"
      ]
     },
     "execution_count": 76,
     "metadata": {},
     "output_type": "execute_result"
    }
   ],
   "source": [
    "rm_idade_Negativa.shape"
   ]
  },
  {
   "cell_type": "code",
   "execution_count": 99,
   "id": "df0bb4c0-7cfd-4cca-b48d-ed0acfb916f1",
   "metadata": {},
   "outputs": [
    {
     "data": {
      "text/plain": [
       "(1026, 6)"
      ]
     },
     "execution_count": 99,
     "metadata": {},
     "output_type": "execute_result"
    }
   ],
   "source": [
    "df.shape"
   ]
  }
 ],
 "metadata": {
  "kernelspec": {
   "display_name": "Python [conda env:base] *",
   "language": "python",
   "name": "conda-base-py"
  },
  "language_info": {
   "codemirror_mode": {
    "name": "ipython",
    "version": 3
   },
   "file_extension": ".py",
   "mimetype": "text/x-python",
   "name": "python",
   "nbconvert_exporter": "python",
   "pygments_lexer": "ipython3",
   "version": "3.12.2"
  }
 },
 "nbformat": 4,
 "nbformat_minor": 5
}
